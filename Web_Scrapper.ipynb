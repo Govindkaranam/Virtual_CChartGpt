{
  "nbformat": 4,
  "nbformat_minor": 0,
  "metadata": {
    "colab": {
      "private_outputs": true,
      "provenance": [],
      "include_colab_link": true
    },
    "kernelspec": {
      "name": "python3",
      "display_name": "Python 3"
    },
    "language_info": {
      "name": "python"
    },
    "gpuClass": "standard"
  },
  "cells": [
    {
      "cell_type": "markdown",
      "metadata": {
        "id": "view-in-github",
        "colab_type": "text"
      },
      "source": [
        "<a href=\"https://colab.research.google.com/github/Govindkaranam/Virtual_CChartGpt/blob/main/Web_Scrapper.ipynb\" target=\"_parent\"><img src=\"https://colab.research.google.com/assets/colab-badge.svg\" alt=\"Open In Colab\"/></a>"
      ]
    },
    {
      "cell_type": "code",
      "execution_count": null,
      "metadata": {
        "id": "qxlAMZR3bLyS"
      },
      "outputs": [],
      "source": [
        "%cd /content/drive/MyDrive/Projects/NLP/LLM_Project"
      ]
    },
    {
      "cell_type": "code",
      "source": [
        "from google.colab import drive\n",
        "drive.mount('/content/drive')"
      ],
      "metadata": {
        "id": "mQNUnRm0HLxN"
      },
      "execution_count": null,
      "outputs": []
    },
    {
      "cell_type": "code",
      "source": [
        "!pwd"
      ],
      "metadata": {
        "id": "kdpS3fuSbrFK"
      },
      "execution_count": null,
      "outputs": []
    },
    {
      "cell_type": "code",
      "source": [
        "import requests\n",
        "from urllib.request import urlopen\n",
        "from bs4 import BeautifulSoup\n",
        "from urllib.parse import urljoin\n",
        "import traceback\n",
        "from tqdm import tqdm"
      ],
      "metadata": {
        "id": "mIx0-5-Rbw4G"
      },
      "execution_count": null,
      "outputs": []
    },
    {
      "cell_type": "code",
      "source": [
        "class Crawler:\n",
        "    def __init__(self):\n",
        "        self.__crawled_pages = set()\n",
        "    \n",
        "    def get_crawled_pages(self):\n",
        "        return self.__crawled_pages\n",
        "    \n",
        "    def write_to_file(self, filename:str):\n",
        "        with open(filename, \"w\") as outfile:\n",
        "            for url in tqdm(self.__crawled_pages, desc=\"writing urls...\"):\n",
        "                outfile.write(url+\"\\n\")\n",
        "                \n",
        "        print(f\"written {len(self.__crawled_pages)} urls\")\n",
        "        print\n",
        "    \n",
        "    # Index an individual page\n",
        "    def addtoindex(self,url,soup):\n",
        "        if self.isindexed(url):\n",
        "            print(f\"url already indexed: {url}\")\n",
        "            return\n",
        "        \n",
        "        print('Indexing '+url)\n",
        "\n",
        "        # Get the URL id\n",
        "        if url not in self.__crawled_pages:\n",
        "            self.__crawled_pages.add(url)\n",
        "            print(f\"indexed url : {url}\")\n",
        "            return\n",
        "                  \n",
        "        \n",
        "                  \n",
        "    # Return true if this url is already indexed\n",
        "    def isindexed(self,url):\n",
        "        if url in self.__crawled_pages:\n",
        "            return True\n",
        "                  \n",
        "        return False\n",
        "        \n",
        "                  \n",
        "    def crawl(self,pages: list,depth=3):\n",
        "        for i in range(depth):\n",
        "          newpages={}\n",
        "          for page in pages:\n",
        "            try:\n",
        "              c=requests.get(page)\n",
        "\n",
        "            except:\n",
        "              print(\"Could not open %s\" % page)\n",
        "              continue\n",
        "            try:\n",
        "              soup=BeautifulSoup(c.text)\n",
        "              self.addtoindex(page,soup)\n",
        "\n",
        "              links=soup('a')\n",
        "              for link in links:\n",
        "                if ('href' in dict(link.attrs)):\n",
        "                  url=urljoin(page,link['href'])\n",
        "                  \n",
        "                  if url.find(\"'\")!=-1:\n",
        "                      continue\n",
        "                  \n",
        "                  url=url.split('#')[0]  # remove location portion\n",
        "                  if url[0:4]=='http' and not self.isindexed(url):\n",
        "                    newpages[url]=1\n",
        "    \n",
        "            except Exception:\n",
        "              print(\"Could not parse page %s\" % page)\n",
        "              print(\"error: \", traceback.format_exc())\n",
        "              print()  \n",
        "\n",
        "          pages=newpages"
      ],
      "metadata": {
        "id": "ETGshtK0cKez"
      },
      "execution_count": null,
      "outputs": []
    },
    {
      "cell_type": "code",
      "source": [
        "crawler = Crawler()\n",
        "pages = ['https://keras.io/api/']\n",
        "crawler.crawl(pages=pages)\n",
        "crawler.write_to_file('/content/drive/MyDrive/Projects/NLP/LLM_Project/Scrap_data/keras.txt')"
      ],
      "metadata": {
        "id": "vCfQ147FcNhy"
      },
      "execution_count": null,
      "outputs": []
    },
    {
      "cell_type": "code",
      "source": [],
      "metadata": {
        "id": "BaP0guWPrOVD"
      },
      "execution_count": null,
      "outputs": []
    }
  ]
}